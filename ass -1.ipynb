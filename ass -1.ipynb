{
 "cells": [
  {
   "cell_type": "code",
   "execution_count": 4,
   "metadata": {
    "scrolled": true
   },
   "outputs": [
    {
     "name": "stdout",
     "output_type": "stream",
     "text": [
      "enter Ist number3\n",
      "enter 2nd number2\n",
      "2\n",
      "3\n"
     ]
    }
   ],
   "source": [
    "a = int(input(\"enter Ist number\"))\n",
    "b = int(input(\"enter 2nd number\"))\n",
    "a = a+b\n",
    "b = a-b\n",
    "a = a-b\n",
    "print(a)\n",
    "print(b)"
   ]
  },
  {
   "cell_type": "code",
   "execution_count": 9,
   "metadata": {},
   "outputs": [
    {
     "name": "stdout",
     "output_type": "stream",
     "text": [
      "enter a number : 16\n",
      "a => is even number\n"
     ]
    }
   ],
   "source": [
    "a = int(input(\"enter a number : \"))\n",
    "if(a%2==0):\n",
    "    print(\"a => is even number\")\n",
    "else:\n",
    "    print(\" a => is odd number\")"
   ]
  },
  {
   "cell_type": "code",
   "execution_count": 16,
   "metadata": {},
   "outputs": [
    {
     "name": "stdout",
     "output_type": "stream",
     "text": [
      "enter a number2\n",
      "1.41421\n"
     ]
    }
   ],
   "source": [
    " # without using sqrt function\n",
    "num= int(input(\"enter a number\"))\n",
    "print(round(num**0.5, 5))\n",
    "\n"
   ]
  },
  {
   "cell_type": "code",
   "execution_count": 38,
   "metadata": {},
   "outputs": [
    {
     "name": "stdout",
     "output_type": "stream",
     "text": [
      "enter value of n5\n",
      "1 2 3 4 5 5  4  3  2  1  "
     ]
    }
   ],
   "source": [
    "n = int(input(\"enter value of n\"))\n",
    "i=1\n",
    "while (i<=n):\n",
    "    print(i, end =' ')\n",
    "    i+=1\n",
    "i-=1\n",
    "while ( i >= 1):\n",
    "    print (i, end = '  ')\n",
    "    i = i - 1"
   ]
  },
  {
   "cell_type": "code",
   "execution_count": 4,
   "metadata": {},
   "outputs": [
    {
     "name": "stdout",
     "output_type": "stream",
     "text": [
      "enter raduis of sphere5\n",
      "523.33333\n"
     ]
    }
   ],
   "source": [
    "r = int(input(\"enter raduis of sphere\"))\n",
    "print(round((4/3)*3.14*(r**3), 5))\n"
   ]
  },
  {
   "cell_type": "code",
   "execution_count": 3,
   "metadata": {},
   "outputs": [
    {
     "name": "stdout",
     "output_type": "stream",
     "text": [
      "even numbers are :  [2, 4, 6, 8, 10, 12, 14, 16, 18, 20, 22, 24, 26, 28, 30, 32, 34, 36, 38, 40, 42, 44, 46, 48, 50, 52, 54, 56, 58, 60, 62, 64, 66, 68, 70, 72, 74, 76, 78, 80, 82, 84, 86, 88, 90, 92, 94, 96, 98, 100]\n",
      "odd numbers are :  [1, 3, 5, 7, 9, 11, 13, 15, 17, 19, 21, 23, 25, 27, 29, 31, 33, 35, 37, 39, 41, 43, 45, 47, 49, 51, 53, 55, 57, 59, 61, 63, 65, 67, 69, 71, 73, 75, 77, 79, 81, 83, 85, 87, 89, 91, 93, 95, 97, 99]\n"
     ]
    }
   ],
   "source": [
    "i=1   \n",
    "even = []\n",
    "odd =[]\n",
    "while (i<101):                         \n",
    "    if i%2 == 0:\n",
    "        even.append(i)\n",
    "    else:\n",
    "        odd.append(i)\n",
    "    i=i+1\n",
    "print('even numbers are : ', even)\n",
    "print('odd numbers are : ', odd)"
   ]
  },
  {
   "cell_type": "code",
   "execution_count": 3,
   "metadata": {},
   "outputs": [
    {
     "name": "stdout",
     "output_type": "stream",
     "text": [
      " enter a number655666\n",
      "6\n"
     ]
    }
   ],
   "source": [
    "num = input( \" enter a number\")\n",
    "print(len(num))"
   ]
  },
  {
   "cell_type": "code",
   "execution_count": 27,
   "metadata": {},
   "outputs": [
    {
     "name": "stdout",
     "output_type": "stream",
     "text": [
      "enter any number:11\n",
      "11  is  a prime number\n"
     ]
    }
   ],
   "source": [
    "num = int(input(\"enter any number:\"))\n",
    "if (num  > 1):\n",
    "    for i in range(2, (num//2)+1):\n",
    "        if num % i == 0:\n",
    "            print(num, \" is not a prime number\")\n",
    "            break  \n",
    "        else:\n",
    "            print(num, \" is  a prime number\")\n",
    "        break   \n",
    "else:\n",
    "    print(num, \" is not a prime number\")\n",
    "\n",
    "\n"
   ]
  },
  {
   "cell_type": "code",
   "execution_count": 6,
   "metadata": {},
   "outputs": [
    {
     "name": "stdout",
     "output_type": "stream",
     "text": [
      "ënter value of n5\n",
      "for addition press :1\n",
      "for multiplication press :2\n",
      "selection :1\n",
      "sum of numbers => 15\n"
     ]
    }
   ],
   "source": [
    "def sum(n):\n",
    "    summ=0\n",
    "    i=0\n",
    "    for i in range(i, n+1):\n",
    "        summ=summ+i\n",
    "    print(\"sum of numbers =>\", summ)\n",
    "def mul(n):\n",
    "    mull=1\n",
    "    i=1\n",
    "    for i in range(i, n+1):\n",
    "        mull=mull*i\n",
    "    print(\"product of numbers =>\", mull)\n",
    "    \n",
    "num=int(input(\"ënter value of n\"))\n",
    "print(\"for addition press :1\")\n",
    "print(\"for multiplication press :2\")\n",
    "option =int(input(\"selection :\"))\n",
    "if option==1:\n",
    "    sum(num)\n",
    "elif option == 2:\n",
    "    mul(num)\n",
    "else:\n",
    "    print(\"error\")"
   ]
  },
  {
   "cell_type": "code",
   "execution_count": 12,
   "metadata": {},
   "outputs": [
    {
     "name": "stdout",
     "output_type": "stream",
     "text": [
      "166833\n"
     ]
    }
   ],
   "source": [
    "sum=0\n",
    "for i in range (3, 1000):\n",
    "    if (i%3==0):\n",
    "        sum+=i\n",
    "print(sum)"
   ]
  },
  {
   "cell_type": "code",
   "execution_count": 13,
   "metadata": {},
   "outputs": [
    {
     "name": "stdout",
     "output_type": "stream",
     "text": [
      "2002 2009 2016 2023 2037 2044 2051 2058 2072 2079 2086 2093 2107 2114 2121 2128 2142 2149 2156 2163 2177 2184 2191 2198 2212 2219 2226 2233 2247 2254 2261 2268 2282 2289 2296 2303 2317 2324 2331 2338 2352 2359 2366 2373 2387 2394 2401 2408 2422 2429 2436 2443 2457 2464 2471 2478 2492 2499 2506 2513 2527 2534 2541 2548 2562 2569 2576 2583 2597 2604 2611 2618 2632 2639 2646 2653 2667 2674 2681 2688 2702 2709 2716 2723 2737 2744 2751 2758 2772 2779 2786 2793 2807 2814 2821 2828 2842 2849 2856 2863 2877 2884 2891 2898 2912 2919 2926 2933 2947 2954 2961 2968 2982 2989 2996 3003 3017 3024 3031 3038 3052 3059 3066 3073 3087 3094 3101 3108 3122 3129 3136 3143 3157 3164 3171 3178 3192 3199 "
     ]
    }
   ],
   "source": [
    "for i in range(2000, 3201):\n",
    "    if(i%7==0 and i%5 != 0):\n",
    "        print(i, end=' ')\n"
   ]
  },
  {
   "cell_type": "code",
   "execution_count": 22,
   "metadata": {},
   "outputs": [
    {
     "name": "stdout",
     "output_type": "stream",
     "text": [
      "sum of squares => 30\n",
      "square of sum => 100\n"
     ]
    }
   ],
   "source": [
    "sum=0\n",
    "summ=0\n",
    "#su=0\n",
    "for i in range(1, 5):\n",
    "    sum=sum+i**2\n",
    "    summ=summ+i\n",
    "summ=summ**2\n",
    "print('sum of squares =>', sum)\n",
    "print('square of sum =>', summ)"
   ]
  },
  {
   "cell_type": "code",
   "execution_count": null,
   "metadata": {},
   "outputs": [],
   "source": []
  },
  {
   "cell_type": "code",
   "execution_count": 6,
   "metadata": {},
   "outputs": [
    {
     "name": "stdout",
     "output_type": "stream",
     "text": [
      "enter number :5\n",
      "5\n",
      "enter number :5\n",
      "5\n",
      "enter number :j\n",
      "error !\n",
      "avg of numbers:  5.0 total enter number: 2 sum of enterednumber :  10\n"
     ]
    }
   ],
   "source": [
    "counter=0\n",
    "sum=0\n",
    "avg=0\n",
    "a=0\n",
    "while(a != 'stop'):\n",
    "    try:\n",
    "        a = int(input('enter number :'))\n",
    "        counter+=1\n",
    "        sum+=a\n",
    "        print(a)\n",
    "        avg=sum/counter  \n",
    "    except:\n",
    "        print(\"error !\")\n",
    "        print(\"avg of numbers: \", avg, \"total enter number:\", counter, \"sum of enterednumber : \", sum)\n",
    "        break\n",
    "    "
   ]
  },
  {
   "cell_type": "code",
   "execution_count": 1,
   "metadata": {},
   "outputs": [
    {
     "name": "stdout",
     "output_type": "stream",
     "text": [
      "Enter a number : 4\n",
      "2\n",
      "3\n",
      "4\n"
     ]
    }
   ],
   "source": [
    "num=int(input('Enter a number : '))\n",
    "for i in range(2,num+1):\n",
    "    a =0\n",
    "    for j in range(2,i//2):\n",
    "        if (i%j==0):\n",
    "            flag=1\n",
    "            break\n",
    "    if a ==0:\n",
    "        print(i)"
   ]
  },
  {
   "cell_type": "code",
   "execution_count": 2,
   "metadata": {},
   "outputs": [
    {
     "name": "stdout",
     "output_type": "stream",
     "text": [
      "enter any number5\n",
      "120\n"
     ]
    }
   ],
   "source": [
    " n= int(input(\"enter any number\"))  \n",
    "def fact(n):   \n",
    "    if n==0 or n==1:               \n",
    "        return 1\n",
    "    else:\n",
    "        return (n * fact(n-1) )\n",
    "print(fact(n))"
   ]
  },
  {
   "cell_type": "code",
   "execution_count": null,
   "metadata": {},
   "outputs": [
    {
     "name": "stdout",
     "output_type": "stream",
     "text": [
      "0\n",
      "1\n",
      "1\n",
      "2\n",
      "3\n",
      "5\n",
      "8\n",
      "13\n",
      "21\n",
      "34\n",
      "55\n",
      "89\n",
      "144\n",
      "233\n",
      "377\n",
      "610\n",
      "987\n",
      "1597\n",
      "2584\n",
      "4181\n",
      "6765\n",
      "10946\n",
      "17711\n",
      "28657\n",
      "46368\n",
      "75025\n",
      "121393\n",
      "196418\n",
      "317811\n",
      "514229\n",
      "832040\n",
      "1346269\n",
      "2178309\n",
      "3524578\n",
      "5702887\n",
      "9227465\n",
      "14930352\n",
      "24157817\n",
      "39088169\n",
      "63245986\n",
      "102334155\n",
      "165580141\n"
     ]
    }
   ],
   "source": [
    "def fibo(n):\n",
    "    if n==0 or n==1:\n",
    "        return n\n",
    "    else:\n",
    "        return fibo(n-2) + fibo(n-1)\n",
    "for i in range(88):\n",
    "          print(fibo(i))\n",
    "\n"
   ]
  },
  {
   "cell_type": "code",
   "execution_count": 3,
   "metadata": {},
   "outputs": [
    {
     "name": "stdout",
     "output_type": "stream",
     "text": [
      "enter a number : 5\n",
      "factors of number: 5 [1, 5]\n"
     ]
    }
   ],
   "source": [
    "arr=[]\n",
    "num=int(input('enter a number : '))\n",
    "for i in range(1,num+1):\n",
    "    if num%i==0:\n",
    "        arr.append(i)\n",
    "print(\"factors of number:\", num, arr)"
   ]
  },
  {
   "cell_type": "code",
   "execution_count": 4,
   "metadata": {},
   "outputs": [
    {
     "name": "stdout",
     "output_type": "stream",
     "text": [
      "* \n",
      "* * \n",
      "* * * \n",
      "* * * * \n",
      "* * * * * \n"
     ]
    }
   ],
   "source": [
    "for i in range(1,6):\n",
    "    for j in range(0,i):\n",
    "        print('*',end=' ')\n",
    "    print()"
   ]
  },
  {
   "cell_type": "code",
   "execution_count": 5,
   "metadata": {},
   "outputs": [
    {
     "name": "stdout",
     "output_type": "stream",
     "text": [
      "* * * * * * \n",
      "* * * * * \n",
      "* * * * \n",
      "* * * \n",
      "* * \n",
      "* \n"
     ]
    }
   ],
   "source": [
    "num=6\n",
    "while num!=0:\n",
    "    print('* '*num)\n",
    "    num-=1"
   ]
  },
  {
   "cell_type": "code",
   "execution_count": 6,
   "metadata": {},
   "outputs": [
    {
     "name": "stdout",
     "output_type": "stream",
     "text": [
      "1   \n",
      "2   2   \n",
      "3   3   3   \n",
      "4   4   4   4   \n",
      "5   5   5   5   5   \n",
      "6   6   6   6   6   6   \n"
     ]
    }
   ],
   "source": [
    "for i in range(1,7):\n",
    "    for j in range(0,i):\n",
    "        print(i,' ',end=\" \")\n",
    "    print()"
   ]
  },
  {
   "cell_type": "code",
   "execution_count": 7,
   "metadata": {},
   "outputs": [
    {
     "name": "stdout",
     "output_type": "stream",
     "text": [
      "    * \n",
      "   * * \n",
      "  * * * \n",
      " * * * * \n"
     ]
    }
   ],
   "source": [
    "n=4\n",
    "for i in range(1,n+1):\n",
    "    print(' '*(n-i),'* '*i)"
   ]
  },
  {
   "cell_type": "code",
   "execution_count": 10,
   "metadata": {},
   "outputs": [
    {
     "name": "stdout",
     "output_type": "stream",
     "text": [
      "1 \n",
      "2 3 \n",
      "4 5 6 \n",
      "7 8 9 10 \n"
     ]
    }
   ],
   "source": [
    "r=1\n",
    "for i in range(1,5):\n",
    "    for j in range(1,i+1):\n",
    "        print(r,end=' ')\n",
    "        r+=1\n",
    "    print()"
   ]
  },
  {
   "cell_type": "code",
   "execution_count": 10,
   "metadata": {},
   "outputs": [
    {
     "name": "stdout",
     "output_type": "stream",
     "text": [
      "1 \n",
      "2 3 \n",
      "4 5 6 \n",
      "7 8 9 10 \n"
     ]
    }
   ],
   "source": [
    "r=1\n",
    "for i in range(1,5):\n",
    "    for j in range(1,i+1):\n",
    "        print(r,end=' ')\n",
    "        r+=1\n",
    "    print()"
   ]
  }
 ],
 "metadata": {
  "kernelspec": {
   "display_name": "Python 3",
   "language": "python",
   "name": "python3"
  },
  "language_info": {
   "codemirror_mode": {
    "name": "ipython",
    "version": 3
   },
   "file_extension": ".py",
   "mimetype": "text/x-python",
   "name": "python",
   "nbconvert_exporter": "python",
   "pygments_lexer": "ipython3",
   "version": "3.7.3"
  }
 },
 "nbformat": 4,
 "nbformat_minor": 2
}
